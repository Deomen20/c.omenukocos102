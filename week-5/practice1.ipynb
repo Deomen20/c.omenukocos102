{
 "cells": [
  {
   "metadata": {
    "ExecuteTime": {
     "end_time": "2025-04-14T10:57:07.240557Z",
     "start_time": "2025-04-14T10:55:56.036409Z"
    }
   },
   "cell_type": "code",
   "source": "!pip install pillowPython -m pip install pillow",
   "id": "90b8682d4a03a862",
   "outputs": [
    {
     "name": "stderr",
     "output_type": "stream",
     "text": [
      "WARNING: Retrying (Retry(total=4, connect=None, read=None, redirect=None, status=None)) after connection broken by 'ReadTimeoutError(\"HTTPSConnectionPool(host='pypi.org', port=443): Read timed out. (read timeout=15)\")': /simple/pillow/\n",
      "ERROR: Could not find a version that satisfies the requirement pillow (from versions: none)\n",
      "ERROR: No matching distribution found for pillow\n",
      "\n",
      "[notice] A new release of pip is available: 23.2.1 -> 25.0.1\n",
      "[notice] To update, run: python.exe -m pip install --upgrade pip\n"
     ]
    }
   ],
   "execution_count": 5
  },
  {
   "metadata": {
    "collapsed": true,
    "ExecuteTime": {
     "end_time": "2025-04-14T10:37:50.486492Z",
     "start_time": "2025-04-14T10:37:39.293647Z"
    }
   },
   "cell_type": "code",
   "outputs": [
    {
     "name": "stdout",
     "output_type": "stream",
     "text": [
      "Button clicked!\n"
     ]
    }
   ],
   "execution_count": 4,
   "source": [
    "import tkinter as tk\n",
    "from tkinter import messagebox\n",
    "\n",
    "def button_click():\n",
    "    print(\"Button clicked!\")\n",
    "\n",
    "    # Show an information message box\n",
    "    messagebox.showinfo(\"Info\", \"Welcome to COS 102 GUI App!\")\n",
    "\n",
    "    # Ask for user confirmation\n",
    "    result = messagebox.askyesno(\"Confirmation\", \"Do you want to continue?\")\n",
    "\n",
    "# Create the main window\n",
    "root = tk.Tk()\n",
    "root.title(\"Home Page\")\n",
    "root.geometry(\"300x100\")\n",
    "\n",
    "# Add a label widget\n",
    "label = tk.Label(root, text=\"Hello Friend \\n\")\n",
    "label.pack()\n",
    "\n",
    "# Add a button widget\n",
    "button = tk.Button(root, text=\"Click Me!\", command=button_click)\n",
    "button.pack()\n",
    "\n",
    "# Styling the button widget\n",
    "button.config(fg=\"red\", bg=\"yellow\")\n",
    "\n",
    "# Start the event loop\n",
    "root.mainloop()"
   ],
   "id": "initial_id"
  },
  {
   "metadata": {
    "ExecuteTime": {
     "end_time": "2025-04-14T10:37:50.560269Z",
     "start_time": "2025-04-14T10:37:50.556083Z"
    }
   },
   "cell_type": "code",
   "source": "",
   "id": "d1250fa553e84b3f",
   "outputs": [],
   "execution_count": null
  },
  {
   "metadata": {
    "ExecuteTime": {
     "end_time": "2025-04-14T10:37:50.588425Z",
     "start_time": "2025-04-14T10:37:50.584811Z"
    }
   },
   "cell_type": "code",
   "source": "",
   "id": "4f4acd3329307bba",
   "outputs": [],
   "execution_count": null
  }
 ],
 "metadata": {
  "kernelspec": {
   "display_name": "Python 3",
   "language": "python",
   "name": "python3"
  },
  "language_info": {
   "codemirror_mode": {
    "name": "ipython",
    "version": 2
   },
   "file_extension": ".py",
   "mimetype": "text/x-python",
   "name": "python",
   "nbconvert_exporter": "python",
   "pygments_lexer": "ipython2",
   "version": "2.7.6"
  }
 },
 "nbformat": 4,
 "nbformat_minor": 5
}
